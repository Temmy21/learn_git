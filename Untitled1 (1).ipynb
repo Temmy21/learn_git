{
  "nbformat": 4,
  "nbformat_minor": 0,
  "metadata": {
    "colab": {
      "provenance": []
    },
    "kernelspec": {
      "name": "python3",
      "display_name": "Python 3"
    },
    "language_info": {
      "name": "python"
    }
  },
  "cells": [
    {
      "cell_type": "code",
      "execution_count": null,
      "metadata": {
        "colab": {
          "base_uri": "https://localhost:8080/"
        },
        "id": "Dh9pcef2OQZ9",
        "outputId": "e59b1ad0-3f1e-42b0-f576-70188cdcb963"
      },
      "outputs": [
        {
          "output_type": "stream",
          "name": "stdout",
          "text": [
            "22.866666666666667\n"
          ]
        }
      ],
      "source": [
        "import numpy as np\n",
        "import statistics as st\n",
        "\n",
        "\n",
        "data = [12, 15, 21, 21, 18, 19, 25, 30, 30, 28, 29, 40, 12, 18, 25]\n",
        "mean_result = np.mean(data )\n",
        "print(mean_result)\n"
      ]
    },
    {
      "cell_type": "code",
      "source": [
        "median_result = np.median(data)\n",
        "print(median_result)"
      ],
      "metadata": {
        "colab": {
          "base_uri": "https://localhost:8080/"
        },
        "id": "gVM8VbrZSq8j",
        "outputId": "9dfabcd6-cfbd-4d69-bfce-65edae15a662"
      },
      "execution_count": null,
      "outputs": [
        {
          "output_type": "stream",
          "name": "stdout",
          "text": [
            "21.0\n"
          ]
        }
      ]
    },
    {
      "cell_type": "code",
      "source": [
        "mode_result = st.mode(data)\n",
        "print(mode_result)"
      ],
      "metadata": {
        "colab": {
          "base_uri": "https://localhost:8080/"
        },
        "id": "xUBJKl06THZI",
        "outputId": "b7f43653-4b24-4682-b6d3-2f4f5123745d"
      },
      "execution_count": null,
      "outputs": [
        {
          "output_type": "stream",
          "name": "stdout",
          "text": [
            "12\n"
          ]
        }
      ]
    },
    {
      "cell_type": "code",
      "source": [
        "variance_result = np.var(data)\n",
        "print(variance_result)\n"
      ],
      "metadata": {
        "colab": {
          "base_uri": "https://localhost:8080/"
        },
        "id": "E-ztCpZWTyML",
        "outputId": "a7be5622-1a58-440e-b6ac-53051a766b15"
      },
      "execution_count": null,
      "outputs": [
        {
          "output_type": "stream",
          "name": "stdout",
          "text": [
            "55.71555555555556\n"
          ]
        }
      ]
    },
    {
      "cell_type": "code",
      "source": [
        "standard_result = np.std(data)\n",
        "print(standard_result)"
      ],
      "metadata": {
        "colab": {
          "base_uri": "https://localhost:8080/"
        },
        "id": "q76RodOQUrWE",
        "outputId": "8e8e9280-91bc-4cce-af18-9a794b2f35d6"
      },
      "execution_count": null,
      "outputs": [
        {
          "output_type": "stream",
          "name": "stdout",
          "text": [
            "7.464285334548483\n"
          ]
        }
      ]
    },
    {
      "cell_type": "code",
      "source": [
        "hieght = [45, 67, 23, 67, 89, 34, 56, 67, 89, 12, 90, 45, 67, 34, 56, 78, 23, 45, 67, 89, 12]"
      ],
      "metadata": {
        "id": "b__pHc2QZZxI"
      },
      "execution_count": null,
      "outputs": []
    },
    {
      "cell_type": "code",
      "source": [
        "hieght = data = [45, 67, 23, 67, 89, 34, 56, 67, 89, 12, 90, 45, 67, 34, 56, 78, 23, 45, 67, 89, 12]\n",
        "variance_result = np.var(hieght)\n",
        "print(variance_result)"
      ],
      "metadata": {
        "colab": {
          "base_uri": "https://localhost:8080/"
        },
        "id": "VhIG7cdPX9LZ",
        "outputId": "c4201746-ffbc-4c2d-bd18-5e63cf95b986"
      },
      "execution_count": null,
      "outputs": [
        {
          "output_type": "stream",
          "name": "stdout",
          "text": [
            "612.952380952381\n"
          ]
        }
      ]
    },
    {
      "cell_type": "code",
      "source": [
        "standard_result = np.std(hieght)\n",
        "print(standard_result)"
      ],
      "metadata": {
        "colab": {
          "base_uri": "https://localhost:8080/"
        },
        "id": "NJruvXHFZN8B",
        "outputId": "d60a0d7e-ce8f-4c4f-f632-50ef59729615"
      },
      "execution_count": null,
      "outputs": [
        {
          "output_type": "stream",
          "name": "stdout",
          "text": [
            "24.75787512999411\n"
          ]
        }
      ]
    },
    {
      "cell_type": "code",
      "source": [
        "percentile_25th = np.percentile(data, 25)\n",
        "print(percentile_25th)"
      ],
      "metadata": {
        "colab": {
          "base_uri": "https://localhost:8080/"
        },
        "id": "L-2elmy1aG65",
        "outputId": "597a7f12-a14a-4896-c1e2-b9643367a8ff"
      },
      "execution_count": null,
      "outputs": [
        {
          "output_type": "stream",
          "name": "stdout",
          "text": [
            "34.0\n"
          ]
        }
      ]
    },
    {
      "cell_type": "code",
      "source": [
        "percentile_10th = np.percentile(data, 10)\n",
        "print(percentile_10th)"
      ],
      "metadata": {
        "colab": {
          "base_uri": "https://localhost:8080/"
        },
        "id": "9zau-bjBa8l7",
        "outputId": "82847bc8-3f6e-46fa-d275-f41889328d50"
      },
      "execution_count": null,
      "outputs": [
        {
          "output_type": "stream",
          "name": "stdout",
          "text": [
            "23.0\n"
          ]
        }
      ]
    },
    {
      "cell_type": "code",
      "source": [
        "percentile_50th = np.percentile(data, 50)\n",
        "print(percentile_50th)"
      ],
      "metadata": {
        "colab": {
          "base_uri": "https://localhost:8080/"
        },
        "id": "-AJV7YxObUk0",
        "outputId": "ea85d856-220b-4ad8-dcc2-ac9a11533342"
      },
      "execution_count": null,
      "outputs": [
        {
          "output_type": "stream",
          "name": "stdout",
          "text": [
            "56.0\n"
          ]
        }
      ]
    },
    {
      "cell_type": "code",
      "source": [
        "percentile_75th = np.percentile(data, 75)\n",
        "print(percentile_75th)"
      ],
      "metadata": {
        "colab": {
          "base_uri": "https://localhost:8080/"
        },
        "id": "5C4LHw9TbesE",
        "outputId": "787a0951-29d2-4832-9ecb-bc7b3fe8ae9a"
      },
      "execution_count": null,
      "outputs": [
        {
          "output_type": "stream",
          "name": "stdout",
          "text": [
            "67.0\n"
          ]
        }
      ]
    },
    {
      "cell_type": "code",
      "source": [
        "matrix_a = np.array([[2, 1, 3, 6], [4, 6, 6, 7], [3, 7, 5, 6]])\n",
        "print(matrix_a)\n"
      ],
      "metadata": {
        "id": "bBGQvJH_VdBT",
        "colab": {
          "base_uri": "https://localhost:8080/"
        },
        "outputId": "7c466b99-53fd-4cd2-8ab6-53ba08da653b"
      },
      "execution_count": null,
      "outputs": [
        {
          "output_type": "stream",
          "name": "stdout",
          "text": [
            "[[2 1 3 6]\n",
            " [4 6 6 7]\n",
            " [3 7 5 6]]\n"
          ]
        }
      ]
    },
    {
      "cell_type": "code",
      "source": [
        "matrix_b = np.array([[2, 5, 7, 8], [5, 6, 7, 8], [4, 5, 7, 8]])\n",
        "print(matrix_b)"
      ],
      "metadata": {
        "colab": {
          "base_uri": "https://localhost:8080/"
        },
        "id": "LgELM-rMYbnu",
        "outputId": "b6f40f81-5e20-42cd-ace8-3c806b9078c1"
      },
      "execution_count": null,
      "outputs": [
        {
          "output_type": "stream",
          "name": "stdout",
          "text": [
            "[[2 5 7 8]\n",
            " [5 6 7 8]\n",
            " [4 5 7 8]]\n"
          ]
        }
      ]
    },
    {
      "cell_type": "code",
      "source": [
        "addition = matrix_a + matrix_b\n",
        "print(addition)"
      ],
      "metadata": {
        "colab": {
          "base_uri": "https://localhost:8080/"
        },
        "id": "InVpU7gYZojU",
        "outputId": "44de07f0-dfb9-4103-f152-1bd998d27a73"
      },
      "execution_count": null,
      "outputs": [
        {
          "output_type": "stream",
          "name": "stdout",
          "text": [
            "[[ 4  6 10 14]\n",
            " [ 9 12 13 15]\n",
            " [ 7 12 12 14]]\n"
          ]
        }
      ]
    },
    {
      "cell_type": "code",
      "source": [
        "subtraction = matrix_a - matrix_b\n",
        "print(subtraction)"
      ],
      "metadata": {
        "colab": {
          "base_uri": "https://localhost:8080/"
        },
        "id": "SYIWWZXtaaw8",
        "outputId": "7285369e-8dd2-4fbf-e757-8780597b384d"
      },
      "execution_count": null,
      "outputs": [
        {
          "output_type": "stream",
          "name": "stdout",
          "text": [
            "[[ 0 -4 -4 -2]\n",
            " [-1  0 -1 -1]\n",
            " [-1  2 -2 -2]]\n"
          ]
        }
      ]
    },
    {
      "cell_type": "code",
      "source": [
        "multiplication = matrix_a * matrix_b\n",
        "print(multiplication)"
      ],
      "metadata": {
        "colab": {
          "base_uri": "https://localhost:8080/"
        },
        "id": "OMpWKfq8bEc5",
        "outputId": "b2720320-52fb-41fb-ec9a-3d9d4cd4d6f8"
      },
      "execution_count": null,
      "outputs": [
        {
          "output_type": "stream",
          "name": "stdout",
          "text": [
            "[[ 4  5 21 48]\n",
            " [20 36 42 56]\n",
            " [12 35 35 48]]\n"
          ]
        }
      ]
    },
    {
      "cell_type": "code",
      "source": [
        "addition = 50 + matrix_a + matrix_b\n",
        "print(addition)"
      ],
      "metadata": {
        "colab": {
          "base_uri": "https://localhost:8080/"
        },
        "id": "GfCewCpmbdMQ",
        "outputId": "ee8233ee-3887-4d46-8af2-6e9a7315562a"
      },
      "execution_count": null,
      "outputs": [
        {
          "output_type": "stream",
          "name": "stdout",
          "text": [
            "[[54 56 60 64]\n",
            " [59 62 63 65]\n",
            " [57 62 62 64]]\n"
          ]
        }
      ]
    },
    {
      "cell_type": "code",
      "source": [
        "subtraction = 23 - matrix_a - matrix_b\n",
        "print(subtraction)"
      ],
      "metadata": {
        "colab": {
          "base_uri": "https://localhost:8080/"
        },
        "id": "7i8YjYsWb-0k",
        "outputId": "13188df0-6e86-43c0-d096-3357ef9ac560"
      },
      "execution_count": null,
      "outputs": [
        {
          "output_type": "stream",
          "name": "stdout",
          "text": [
            "[[19 17 13  9]\n",
            " [14 11 10  8]\n",
            " [16 11 11  9]]\n"
          ]
        }
      ]
    },
    {
      "cell_type": "code",
      "source": [
        "multiplication = 12 * matrix_a * matrix_b\n",
        "print(multiplication)"
      ],
      "metadata": {
        "colab": {
          "base_uri": "https://localhost:8080/"
        },
        "id": "-wj5m1WAcXMR",
        "outputId": "d7f7059e-1a8d-4b42-bbbd-6ac5ceac2c1d"
      },
      "execution_count": null,
      "outputs": [
        {
          "output_type": "stream",
          "name": "stdout",
          "text": [
            "[[ 48  60 252 576]\n",
            " [240 432 504 672]\n",
            " [144 420 420 576]]\n"
          ]
        }
      ]
    },
    {
      "cell_type": "code",
      "source": [
        "print(matrix_a.T)"
      ],
      "metadata": {
        "colab": {
          "base_uri": "https://localhost:8080/"
        },
        "id": "Mt1Km6DqeJd_",
        "outputId": "9138fb7e-e516-43a9-a9c5-ac1a069fa722"
      },
      "execution_count": null,
      "outputs": [
        {
          "output_type": "stream",
          "name": "stdout",
          "text": [
            "[[2 4 3]\n",
            " [1 6 7]\n",
            " [3 6 5]\n",
            " [6 7 6]]\n"
          ]
        }
      ]
    },
    {
      "cell_type": "code",
      "source": [
        "matrix_classwork_A = np.array ([[2, 1, 8], [4, 6, 5]])\n",
        "print(matrix_classwork_A)"
      ],
      "metadata": {
        "colab": {
          "base_uri": "https://localhost:8080/"
        },
        "id": "PWAtx7aj0WdP",
        "outputId": "4a17b2ba-3b39-46af-a255-9e2c0a4ce84b"
      },
      "execution_count": null,
      "outputs": [
        {
          "output_type": "stream",
          "name": "stdout",
          "text": [
            "[[2 1 8]\n",
            " [4 6 5]]\n"
          ]
        }
      ]
    },
    {
      "cell_type": "code",
      "source": [
        "matrix_classwork_B = np.array ([[4, 7, 3], [3, 2, 9]])\n",
        "print(matrix_classwork_B)"
      ],
      "metadata": {
        "colab": {
          "base_uri": "https://localhost:8080/"
        },
        "id": "_o79xAajZrog",
        "outputId": "04bec827-a0f1-46d3-8a7b-2c69ece647d4"
      },
      "execution_count": null,
      "outputs": [
        {
          "output_type": "stream",
          "name": "stdout",
          "text": [
            "[[4 7 3]\n",
            " [3 2 9]]\n"
          ]
        }
      ]
    },
    {
      "cell_type": "code",
      "source": [
        "mean_result = np.mean(matrix_classwork_A)\n",
        "print(mean_result)"
      ],
      "metadata": {
        "colab": {
          "base_uri": "https://localhost:8080/"
        },
        "id": "Nymj1XuU02TE",
        "outputId": "9db5e5b2-662c-4350-813c-59179aab2a77"
      },
      "execution_count": null,
      "outputs": [
        {
          "output_type": "stream",
          "name": "stdout",
          "text": [
            "4.333333333333333\n"
          ]
        }
      ]
    },
    {
      "cell_type": "code",
      "source": [
        "median_result = np.median(matrix_classwork_A)\n",
        "print(median_result)"
      ],
      "metadata": {
        "colab": {
          "base_uri": "https://localhost:8080/"
        },
        "id": "KKA_IDJ15JQ-",
        "outputId": "2b13bb64-dab8-42a0-d8c1-4a1a124f4a21"
      },
      "execution_count": null,
      "outputs": [
        {
          "output_type": "stream",
          "name": "stdout",
          "text": [
            "4.5\n"
          ]
        }
      ]
    },
    {
      "cell_type": "code",
      "source": [
        "addition = matrix_classwork_A + matrix_classwork_B\n",
        "print(addition)"
      ],
      "metadata": {
        "colab": {
          "base_uri": "https://localhost:8080/"
        },
        "id": "w3jyDM8m6jsU",
        "outputId": "70739e92-4721-419e-8265-085012d39d4e"
      },
      "execution_count": null,
      "outputs": [
        {
          "output_type": "stream",
          "name": "stdout",
          "text": [
            "[[ 6  8 11]\n",
            " [ 7  8 14]]\n"
          ]
        }
      ]
    },
    {
      "cell_type": "code",
      "source": [
        "subtraction = matrix_classwork_A - matrix_classwork_B\n",
        "print(subtraction)"
      ],
      "metadata": {
        "colab": {
          "base_uri": "https://localhost:8080/"
        },
        "id": "PLD5CnzA6w2M",
        "outputId": "0d794e25-11b5-4635-9a05-478cd25c71fc"
      },
      "execution_count": null,
      "outputs": [
        {
          "output_type": "stream",
          "name": "stdout",
          "text": [
            "[[-2 -6  5]\n",
            " [ 1  4 -4]]\n"
          ]
        }
      ]
    },
    {
      "cell_type": "code",
      "source": [
        "multiplication = matrix_classwork_A * matrix_classwork_B\n",
        "print(multiplication)"
      ],
      "metadata": {
        "colab": {
          "base_uri": "https://localhost:8080/"
        },
        "id": "1tMAdcTM72HU",
        "outputId": "9bf5c2f5-e32a-4234-fda2-5bde03ca234c"
      },
      "execution_count": null,
      "outputs": [
        {
          "output_type": "stream",
          "name": "stdout",
          "text": [
            "[[ 8  7 24]\n",
            " [12 12 45]]\n"
          ]
        }
      ]
    },
    {
      "cell_type": "code",
      "source": [
        "print(matrix_classwork_A.T)"
      ],
      "metadata": {
        "colab": {
          "base_uri": "https://localhost:8080/"
        },
        "id": "UxDmgdgg8VSQ",
        "outputId": "45f15f70-1a10-4615-ccc4-75d4c8a05736"
      },
      "execution_count": null,
      "outputs": [
        {
          "output_type": "stream",
          "name": "stdout",
          "text": [
            "[[2 4]\n",
            " [1 6]\n",
            " [8 5]]\n"
          ]
        }
      ]
    },
    {
      "cell_type": "code",
      "source": [
        "print(matrix_classwork_B.T)"
      ],
      "metadata": {
        "colab": {
          "base_uri": "https://localhost:8080/"
        },
        "id": "IfhPYgORdqcg",
        "outputId": "a7bd2ad6-d122-49db-8b7a-152422d8a757"
      },
      "execution_count": null,
      "outputs": [
        {
          "output_type": "stream",
          "name": "stdout",
          "text": [
            "[[4 3]\n",
            " [7 2]\n",
            " [3 9]]\n"
          ]
        }
      ]
    },
    {
      "cell_type": "code",
      "source": [
        "multiplication = 10 * matrix_classwork_A\n",
        "print(multiplication)"
      ],
      "metadata": {
        "colab": {
          "base_uri": "https://localhost:8080/"
        },
        "id": "jHiNLYmd81SU",
        "outputId": "ab48d3d9-bfa6-4dca-bae8-e53e454e5c99"
      },
      "execution_count": null,
      "outputs": [
        {
          "output_type": "stream",
          "name": "stdout",
          "text": [
            "[[20 10 80]\n",
            " [40 60 50]]\n"
          ]
        }
      ]
    },
    {
      "cell_type": "code",
      "source": [
        "multiplication = 10 * matrix_classwork_B\n",
        "print(multiplication)"
      ],
      "metadata": {
        "colab": {
          "base_uri": "https://localhost:8080/"
        },
        "id": "A_P110Kkd8Oq",
        "outputId": "8f24d4d9-048c-4516-8c4b-0ec9bb5fe1bd"
      },
      "execution_count": null,
      "outputs": [
        {
          "output_type": "stream",
          "name": "stdout",
          "text": [
            "[[40 70 30]\n",
            " [30 20 90]]\n"
          ]
        }
      ]
    }
  ]
}